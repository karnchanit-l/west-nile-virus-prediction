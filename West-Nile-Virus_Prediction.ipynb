{
 "cells": [
  {
   "cell_type": "markdown",
   "metadata": {},
   "source": [
    "# West Nile Virus Prediction\n",
    "\n",
    "West Nile virus dataset could get from Kaggle website, https://www.kaggle.com/c/predict-west-nile-virus/overview. The purpose for this project is to develop the model to predict the mosquitos have infected West Nile virus or not. The models that use in this project are logistic regression and random forest."
   ]
  },
  {
   "cell_type": "code",
   "execution_count": 1,
   "metadata": {},
   "outputs": [],
   "source": [
    "import pandas as pd\n",
    "import numpy as np\n",
    "from sklearn import ensemble, preprocessing\n",
    "from sklearn.linear_model import LogisticRegression\n",
    "import seaborn as sns\n",
    "import matplotlib.pyplot as plt\n",
    "from matplotlib.patches import Patch"
   ]
  },
  {
   "cell_type": "code",
   "execution_count": 2,
   "metadata": {},
   "outputs": [],
   "source": [
    "# Load dataset \n",
    "train = pd.read_csv(\"../input/train.csv\")\n",
    "test = pd.read_csv(\"../input/test.csv\")\n",
    "sample = pd.read_csv(\"../input/sampleSubmission.csv\")\n",
    "weather = pd.read_csv(\"../input/weather.csv\")\n",
    "\n",
    "# Get labels\n",
    "labels = train.WnvPresent.values"
   ]
  },
  {
   "cell_type": "code",
   "execution_count": 3,
   "metadata": {},
   "outputs": [],
   "source": [
    "pd.set_option('display.max_columns', None)"
   ]
  },
  {
   "cell_type": "code",
   "execution_count": 4,
   "metadata": {},
   "outputs": [
    {
     "data": {
      "text/plain": [
       "Date                      0\n",
       "Address                   0\n",
       "Species                   0\n",
       "Block                     0\n",
       "Street                    0\n",
       "Trap                      0\n",
       "AddressNumberAndStreet    0\n",
       "Latitude                  0\n",
       "Longitude                 0\n",
       "AddressAccuracy           0\n",
       "NumMosquitos              0\n",
       "WnvPresent                0\n",
       "dtype: int64"
      ]
     },
     "execution_count": 4,
     "metadata": {},
     "output_type": "execute_result"
    }
   ],
   "source": [
    "# Check null value on train dataset\n",
    "\n",
    "train.isnull().sum()"
   ]
  },
  {
   "cell_type": "code",
   "execution_count": 5,
   "metadata": {},
   "outputs": [
    {
     "data": {
      "text/plain": [
       "Id                        0\n",
       "Date                      0\n",
       "Address                   0\n",
       "Species                   0\n",
       "Block                     0\n",
       "Street                    0\n",
       "Trap                      0\n",
       "AddressNumberAndStreet    0\n",
       "Latitude                  0\n",
       "Longitude                 0\n",
       "AddressAccuracy           0\n",
       "dtype: int64"
      ]
     },
     "execution_count": 5,
     "metadata": {},
     "output_type": "execute_result"
    }
   ],
   "source": [
    "# Check null value on test dataset\n",
    "\n",
    "test.isnull().sum()"
   ]
  },
  {
   "cell_type": "code",
   "execution_count": 6,
   "metadata": {},
   "outputs": [
    {
     "data": {
      "text/plain": [
       "Station        0\n",
       "Date           0\n",
       "Tmax           0\n",
       "Tmin           0\n",
       "Tavg           0\n",
       "Depart         0\n",
       "DewPoint       0\n",
       "WetBulb        0\n",
       "Heat           0\n",
       "Cool           0\n",
       "Sunrise        0\n",
       "Sunset         0\n",
       "CodeSum        0\n",
       "Depth          0\n",
       "Water1         0\n",
       "SnowFall       0\n",
       "PrecipTotal    0\n",
       "StnPressure    0\n",
       "SeaLevel       0\n",
       "ResultSpeed    0\n",
       "ResultDir      0\n",
       "AvgSpeed       0\n",
       "dtype: int64"
      ]
     },
     "execution_count": 6,
     "metadata": {},
     "output_type": "execute_result"
    }
   ],
   "source": [
    "# Check null value on weather dataset\n",
    "\n",
    "weather.isnull().sum()"
   ]
  },
  {
   "cell_type": "code",
   "execution_count": 7,
   "metadata": {},
   "outputs": [
    {
     "name": "stdout",
     "output_type": "stream",
     "text": [
      "FC: 0\n",
      "TS: 353\n",
      "GR: 1\n",
      "RA: 1035\n",
      "DZ: 133\n",
      "SN: 6\n",
      "SG: 0\n",
      "GS: 0\n",
      "PL: 0\n",
      "IC: 0\n",
      "FG: 41\n",
      "BR: 813\n",
      "UP: 0\n",
      "HZ: 263\n",
      "FU: 9\n",
      "VA: 0\n",
      "DU: 0\n",
      "DS: 0\n",
      "PO: 0\n",
      "SA: 0\n",
      "SS: 0\n",
      "PY: 0\n",
      "SQ: 3\n",
      "DR: 0\n",
      "SH: 0\n",
      "FZ: 0\n",
      "MI: 3\n",
      "PR: 0\n",
      "BC: 5\n",
      "BL: 0\n",
      "VC: 23\n",
      "No Value: 1609\n"
     ]
    }
   ],
   "source": [
    "# Check frequency of weather condition\n",
    "\n",
    "print(\"FC:\", weather.CodeSum.str.contains('FC').sum())\n",
    "print(\"TS:\", weather.CodeSum.str.contains('TS').sum())\n",
    "print(\"GR:\", weather.CodeSum.str.contains('GR').sum())\n",
    "print(\"RA:\", weather.CodeSum.str.contains('RA').sum())\n",
    "print(\"DZ:\", weather.CodeSum.str.contains('DZ').sum())\n",
    "\n",
    "print(\"SN:\", weather.CodeSum.str.contains('SN').sum())\n",
    "print(\"SG:\", weather.CodeSum.str.contains('SG').sum())\n",
    "print(\"GS:\", weather.CodeSum.str.contains('GS').sum())\n",
    "print(\"PL:\", weather.CodeSum.str.contains('PL').sum())\n",
    "print(\"IC:\", weather.CodeSum.str.contains('IC').sum())\n",
    "\n",
    "print(\"FG:\", weather.CodeSum.str.contains('FG').sum())\n",
    "print(\"BR:\", weather.CodeSum.str.contains('BR').sum())\n",
    "print(\"UP:\", weather.CodeSum.str.contains('UP').sum())\n",
    "print(\"HZ:\", weather.CodeSum.str.contains('HZ').sum())\n",
    "print(\"FU:\", weather.CodeSum.str.contains('FU').sum())\n",
    "print(\"VA:\", weather.CodeSum.str.contains('VA').sum())\n",
    "\n",
    "print(\"DU:\", weather.CodeSum.str.contains('DU').sum())\n",
    "print(\"DS:\", weather.CodeSum.str.contains('DS').sum())\n",
    "print(\"PO:\", weather.CodeSum.str.contains('PO').sum())\n",
    "print(\"SA:\", weather.CodeSum.str.contains('SA').sum())\n",
    "print(\"SS:\", weather.CodeSum.str.contains('SS').sum())\n",
    "print(\"PY:\", weather.CodeSum.str.contains('PY').sum())\n",
    "\n",
    "print(\"SQ:\", weather.CodeSum.str.contains('SQ').sum())\n",
    "print(\"DR:\", weather.CodeSum.str.contains('DR').sum())\n",
    "print(\"SH:\", weather.CodeSum.str.contains('SH').sum())\n",
    "print(\"FZ:\", weather.CodeSum.str.contains('FZ').sum())\n",
    "print(\"MI:\", weather.CodeSum.str.contains('MI').sum())\n",
    "print(\"PR:\", weather.CodeSum.str.contains('PR').sum())\n",
    "\n",
    "print(\"BC:\", weather.CodeSum.str.contains('BC').sum())\n",
    "print(\"BL:\", weather.CodeSum.str.contains('BL').sum())\n",
    "print(\"VC:\", weather.CodeSum.str.contains('VC').sum())\n",
    "\n",
    "print(\"No Value:\", (weather['CodeSum']==' ').sum())"
   ]
  },
  {
   "cell_type": "code",
   "execution_count": 8,
   "metadata": {},
   "outputs": [
    {
     "data": {
      "text/html": [
       "<div>\n",
       "<style scoped>\n",
       "    .dataframe tbody tr th:only-of-type {\n",
       "        vertical-align: middle;\n",
       "    }\n",
       "\n",
       "    .dataframe tbody tr th {\n",
       "        vertical-align: top;\n",
       "    }\n",
       "\n",
       "    .dataframe thead th {\n",
       "        text-align: right;\n",
       "    }\n",
       "</style>\n",
       "<table border=\"1\" class=\"dataframe\">\n",
       "  <thead>\n",
       "    <tr style=\"text-align: right;\">\n",
       "      <th></th>\n",
       "      <th>Station</th>\n",
       "      <th>Date</th>\n",
       "      <th>Tmax</th>\n",
       "      <th>Tmin</th>\n",
       "      <th>Tavg</th>\n",
       "      <th>Depart</th>\n",
       "      <th>DewPoint</th>\n",
       "      <th>WetBulb</th>\n",
       "      <th>Heat</th>\n",
       "      <th>Cool</th>\n",
       "      <th>Sunrise</th>\n",
       "      <th>Sunset</th>\n",
       "      <th>CodeSum</th>\n",
       "      <th>Depth</th>\n",
       "      <th>Water1</th>\n",
       "      <th>SnowFall</th>\n",
       "      <th>PrecipTotal</th>\n",
       "      <th>StnPressure</th>\n",
       "      <th>SeaLevel</th>\n",
       "      <th>ResultSpeed</th>\n",
       "      <th>ResultDir</th>\n",
       "      <th>AvgSpeed</th>\n",
       "    </tr>\n",
       "  </thead>\n",
       "  <tbody>\n",
       "    <tr>\n",
       "      <th>0</th>\n",
       "      <td>1</td>\n",
       "      <td>2007-05-01</td>\n",
       "      <td>83</td>\n",
       "      <td>50</td>\n",
       "      <td>67</td>\n",
       "      <td>14</td>\n",
       "      <td>51</td>\n",
       "      <td>56</td>\n",
       "      <td>0</td>\n",
       "      <td>2</td>\n",
       "      <td>0448</td>\n",
       "      <td>1849</td>\n",
       "      <td></td>\n",
       "      <td>0</td>\n",
       "      <td>M</td>\n",
       "      <td>0.0</td>\n",
       "      <td>0.00</td>\n",
       "      <td>29.10</td>\n",
       "      <td>29.82</td>\n",
       "      <td>1.7</td>\n",
       "      <td>27</td>\n",
       "      <td>9.2</td>\n",
       "    </tr>\n",
       "    <tr>\n",
       "      <th>1</th>\n",
       "      <td>2</td>\n",
       "      <td>2007-05-01</td>\n",
       "      <td>84</td>\n",
       "      <td>52</td>\n",
       "      <td>68</td>\n",
       "      <td>M</td>\n",
       "      <td>51</td>\n",
       "      <td>57</td>\n",
       "      <td>0</td>\n",
       "      <td>3</td>\n",
       "      <td>-</td>\n",
       "      <td>-</td>\n",
       "      <td></td>\n",
       "      <td>M</td>\n",
       "      <td>M</td>\n",
       "      <td>M</td>\n",
       "      <td>0.00</td>\n",
       "      <td>29.18</td>\n",
       "      <td>29.82</td>\n",
       "      <td>2.7</td>\n",
       "      <td>25</td>\n",
       "      <td>9.6</td>\n",
       "    </tr>\n",
       "    <tr>\n",
       "      <th>2</th>\n",
       "      <td>1</td>\n",
       "      <td>2007-05-02</td>\n",
       "      <td>59</td>\n",
       "      <td>42</td>\n",
       "      <td>51</td>\n",
       "      <td>-3</td>\n",
       "      <td>42</td>\n",
       "      <td>47</td>\n",
       "      <td>14</td>\n",
       "      <td>0</td>\n",
       "      <td>0447</td>\n",
       "      <td>1850</td>\n",
       "      <td>BR</td>\n",
       "      <td>0</td>\n",
       "      <td>M</td>\n",
       "      <td>0.0</td>\n",
       "      <td>0.00</td>\n",
       "      <td>29.38</td>\n",
       "      <td>30.09</td>\n",
       "      <td>13.0</td>\n",
       "      <td>4</td>\n",
       "      <td>13.4</td>\n",
       "    </tr>\n",
       "    <tr>\n",
       "      <th>3</th>\n",
       "      <td>2</td>\n",
       "      <td>2007-05-02</td>\n",
       "      <td>60</td>\n",
       "      <td>43</td>\n",
       "      <td>52</td>\n",
       "      <td>M</td>\n",
       "      <td>42</td>\n",
       "      <td>47</td>\n",
       "      <td>13</td>\n",
       "      <td>0</td>\n",
       "      <td>-</td>\n",
       "      <td>-</td>\n",
       "      <td>BR HZ</td>\n",
       "      <td>M</td>\n",
       "      <td>M</td>\n",
       "      <td>M</td>\n",
       "      <td>0.00</td>\n",
       "      <td>29.44</td>\n",
       "      <td>30.08</td>\n",
       "      <td>13.3</td>\n",
       "      <td>2</td>\n",
       "      <td>13.4</td>\n",
       "    </tr>\n",
       "    <tr>\n",
       "      <th>4</th>\n",
       "      <td>1</td>\n",
       "      <td>2007-05-03</td>\n",
       "      <td>66</td>\n",
       "      <td>46</td>\n",
       "      <td>56</td>\n",
       "      <td>2</td>\n",
       "      <td>40</td>\n",
       "      <td>48</td>\n",
       "      <td>9</td>\n",
       "      <td>0</td>\n",
       "      <td>0446</td>\n",
       "      <td>1851</td>\n",
       "      <td></td>\n",
       "      <td>0</td>\n",
       "      <td>M</td>\n",
       "      <td>0.0</td>\n",
       "      <td>0.00</td>\n",
       "      <td>29.39</td>\n",
       "      <td>30.12</td>\n",
       "      <td>11.7</td>\n",
       "      <td>7</td>\n",
       "      <td>11.9</td>\n",
       "    </tr>\n",
       "  </tbody>\n",
       "</table>\n",
       "</div>"
      ],
      "text/plain": [
       "   Station        Date  Tmax  Tmin Tavg Depart  DewPoint WetBulb Heat Cool  \\\n",
       "0        1  2007-05-01    83    50   67     14        51      56    0    2   \n",
       "1        2  2007-05-01    84    52   68      M        51      57    0    3   \n",
       "2        1  2007-05-02    59    42   51     -3        42      47   14    0   \n",
       "3        2  2007-05-02    60    43   52      M        42      47   13    0   \n",
       "4        1  2007-05-03    66    46   56      2        40      48    9    0   \n",
       "\n",
       "  Sunrise Sunset CodeSum Depth Water1 SnowFall PrecipTotal StnPressure  \\\n",
       "0    0448   1849             0      M      0.0        0.00       29.10   \n",
       "1       -      -             M      M        M        0.00       29.18   \n",
       "2    0447   1850      BR     0      M      0.0        0.00       29.38   \n",
       "3       -      -   BR HZ     M      M        M        0.00       29.44   \n",
       "4    0446   1851             0      M      0.0        0.00       29.39   \n",
       "\n",
       "  SeaLevel  ResultSpeed  ResultDir AvgSpeed  \n",
       "0    29.82          1.7         27      9.2  \n",
       "1    29.82          2.7         25      9.6  \n",
       "2    30.09         13.0          4     13.4  \n",
       "3    30.08         13.3          2     13.4  \n",
       "4    30.12         11.7          7     11.9  "
      ]
     },
     "execution_count": 8,
     "metadata": {},
     "output_type": "execute_result"
    }
   ],
   "source": [
    "weather.head()"
   ]
  },
  {
   "cell_type": "code",
   "execution_count": 9,
   "metadata": {},
   "outputs": [],
   "source": [
    "# Create new features by weather condition \n",
    "\n",
    "weather['CodeSum_TS'] = np.where(weather['CodeSum'].str.contains('TS') == True, 1, 0)\n",
    "weather['CodeSum_RA'] = np.where(weather['CodeSum'].str.contains('RA') == True, 1, 0)\n",
    "weather['CodeSum_DZ'] = np.where(weather['CodeSum'].str.contains('DZ') == True, 1, 0)\n",
    "weather['CodeSum_FG'] = np.where(weather['CodeSum'].str.contains('FG') == True, 1, 0)\n",
    "weather['CodeSum_BR'] = np.where(weather['CodeSum'].str.contains('BR') == True, 1, 0)\n",
    "weather['CodeSum_HZ'] = np.where(weather['CodeSum'].str.contains('HZ') == True, 1, 0)\n",
    "weather['CodeSum_MO'] = np.where(weather['CodeSum'] == ' ', 1, 0)"
   ]
  },
  {
   "cell_type": "code",
   "execution_count": 10,
   "metadata": {
    "scrolled": false
   },
   "outputs": [
    {
     "data": {
      "text/html": [
       "<div>\n",
       "<style scoped>\n",
       "    .dataframe tbody tr th:only-of-type {\n",
       "        vertical-align: middle;\n",
       "    }\n",
       "\n",
       "    .dataframe tbody tr th {\n",
       "        vertical-align: top;\n",
       "    }\n",
       "\n",
       "    .dataframe thead th {\n",
       "        text-align: right;\n",
       "    }\n",
       "</style>\n",
       "<table border=\"1\" class=\"dataframe\">\n",
       "  <thead>\n",
       "    <tr style=\"text-align: right;\">\n",
       "      <th></th>\n",
       "      <th>Station</th>\n",
       "      <th>Date</th>\n",
       "      <th>Tmax</th>\n",
       "      <th>Tmin</th>\n",
       "      <th>Tavg</th>\n",
       "      <th>Depart</th>\n",
       "      <th>DewPoint</th>\n",
       "      <th>WetBulb</th>\n",
       "      <th>Heat</th>\n",
       "      <th>Cool</th>\n",
       "      <th>Sunrise</th>\n",
       "      <th>Sunset</th>\n",
       "      <th>CodeSum</th>\n",
       "      <th>Depth</th>\n",
       "      <th>Water1</th>\n",
       "      <th>SnowFall</th>\n",
       "      <th>PrecipTotal</th>\n",
       "      <th>StnPressure</th>\n",
       "      <th>SeaLevel</th>\n",
       "      <th>ResultSpeed</th>\n",
       "      <th>ResultDir</th>\n",
       "      <th>AvgSpeed</th>\n",
       "      <th>CodeSum_TS</th>\n",
       "      <th>CodeSum_RA</th>\n",
       "      <th>CodeSum_DZ</th>\n",
       "      <th>CodeSum_FG</th>\n",
       "      <th>CodeSum_BR</th>\n",
       "      <th>CodeSum_HZ</th>\n",
       "      <th>CodeSum_MO</th>\n",
       "    </tr>\n",
       "  </thead>\n",
       "  <tbody>\n",
       "    <tr>\n",
       "      <th>0</th>\n",
       "      <td>1</td>\n",
       "      <td>2007-05-01</td>\n",
       "      <td>83</td>\n",
       "      <td>50</td>\n",
       "      <td>67</td>\n",
       "      <td>14</td>\n",
       "      <td>51</td>\n",
       "      <td>56</td>\n",
       "      <td>0</td>\n",
       "      <td>2</td>\n",
       "      <td>0448</td>\n",
       "      <td>1849</td>\n",
       "      <td></td>\n",
       "      <td>0</td>\n",
       "      <td>M</td>\n",
       "      <td>0.0</td>\n",
       "      <td>0.00</td>\n",
       "      <td>29.10</td>\n",
       "      <td>29.82</td>\n",
       "      <td>1.7</td>\n",
       "      <td>27</td>\n",
       "      <td>9.2</td>\n",
       "      <td>0</td>\n",
       "      <td>0</td>\n",
       "      <td>0</td>\n",
       "      <td>0</td>\n",
       "      <td>0</td>\n",
       "      <td>0</td>\n",
       "      <td>1</td>\n",
       "    </tr>\n",
       "    <tr>\n",
       "      <th>1</th>\n",
       "      <td>2</td>\n",
       "      <td>2007-05-01</td>\n",
       "      <td>84</td>\n",
       "      <td>52</td>\n",
       "      <td>68</td>\n",
       "      <td>M</td>\n",
       "      <td>51</td>\n",
       "      <td>57</td>\n",
       "      <td>0</td>\n",
       "      <td>3</td>\n",
       "      <td>-</td>\n",
       "      <td>-</td>\n",
       "      <td></td>\n",
       "      <td>M</td>\n",
       "      <td>M</td>\n",
       "      <td>M</td>\n",
       "      <td>0.00</td>\n",
       "      <td>29.18</td>\n",
       "      <td>29.82</td>\n",
       "      <td>2.7</td>\n",
       "      <td>25</td>\n",
       "      <td>9.6</td>\n",
       "      <td>0</td>\n",
       "      <td>0</td>\n",
       "      <td>0</td>\n",
       "      <td>0</td>\n",
       "      <td>0</td>\n",
       "      <td>0</td>\n",
       "      <td>1</td>\n",
       "    </tr>\n",
       "    <tr>\n",
       "      <th>2</th>\n",
       "      <td>1</td>\n",
       "      <td>2007-05-02</td>\n",
       "      <td>59</td>\n",
       "      <td>42</td>\n",
       "      <td>51</td>\n",
       "      <td>-3</td>\n",
       "      <td>42</td>\n",
       "      <td>47</td>\n",
       "      <td>14</td>\n",
       "      <td>0</td>\n",
       "      <td>0447</td>\n",
       "      <td>1850</td>\n",
       "      <td>BR</td>\n",
       "      <td>0</td>\n",
       "      <td>M</td>\n",
       "      <td>0.0</td>\n",
       "      <td>0.00</td>\n",
       "      <td>29.38</td>\n",
       "      <td>30.09</td>\n",
       "      <td>13.0</td>\n",
       "      <td>4</td>\n",
       "      <td>13.4</td>\n",
       "      <td>0</td>\n",
       "      <td>0</td>\n",
       "      <td>0</td>\n",
       "      <td>0</td>\n",
       "      <td>1</td>\n",
       "      <td>0</td>\n",
       "      <td>0</td>\n",
       "    </tr>\n",
       "    <tr>\n",
       "      <th>3</th>\n",
       "      <td>2</td>\n",
       "      <td>2007-05-02</td>\n",
       "      <td>60</td>\n",
       "      <td>43</td>\n",
       "      <td>52</td>\n",
       "      <td>M</td>\n",
       "      <td>42</td>\n",
       "      <td>47</td>\n",
       "      <td>13</td>\n",
       "      <td>0</td>\n",
       "      <td>-</td>\n",
       "      <td>-</td>\n",
       "      <td>BR HZ</td>\n",
       "      <td>M</td>\n",
       "      <td>M</td>\n",
       "      <td>M</td>\n",
       "      <td>0.00</td>\n",
       "      <td>29.44</td>\n",
       "      <td>30.08</td>\n",
       "      <td>13.3</td>\n",
       "      <td>2</td>\n",
       "      <td>13.4</td>\n",
       "      <td>0</td>\n",
       "      <td>0</td>\n",
       "      <td>0</td>\n",
       "      <td>0</td>\n",
       "      <td>1</td>\n",
       "      <td>1</td>\n",
       "      <td>0</td>\n",
       "    </tr>\n",
       "    <tr>\n",
       "      <th>4</th>\n",
       "      <td>1</td>\n",
       "      <td>2007-05-03</td>\n",
       "      <td>66</td>\n",
       "      <td>46</td>\n",
       "      <td>56</td>\n",
       "      <td>2</td>\n",
       "      <td>40</td>\n",
       "      <td>48</td>\n",
       "      <td>9</td>\n",
       "      <td>0</td>\n",
       "      <td>0446</td>\n",
       "      <td>1851</td>\n",
       "      <td></td>\n",
       "      <td>0</td>\n",
       "      <td>M</td>\n",
       "      <td>0.0</td>\n",
       "      <td>0.00</td>\n",
       "      <td>29.39</td>\n",
       "      <td>30.12</td>\n",
       "      <td>11.7</td>\n",
       "      <td>7</td>\n",
       "      <td>11.9</td>\n",
       "      <td>0</td>\n",
       "      <td>0</td>\n",
       "      <td>0</td>\n",
       "      <td>0</td>\n",
       "      <td>0</td>\n",
       "      <td>0</td>\n",
       "      <td>1</td>\n",
       "    </tr>\n",
       "  </tbody>\n",
       "</table>\n",
       "</div>"
      ],
      "text/plain": [
       "   Station        Date  Tmax  Tmin Tavg Depart  DewPoint WetBulb Heat Cool  \\\n",
       "0        1  2007-05-01    83    50   67     14        51      56    0    2   \n",
       "1        2  2007-05-01    84    52   68      M        51      57    0    3   \n",
       "2        1  2007-05-02    59    42   51     -3        42      47   14    0   \n",
       "3        2  2007-05-02    60    43   52      M        42      47   13    0   \n",
       "4        1  2007-05-03    66    46   56      2        40      48    9    0   \n",
       "\n",
       "  Sunrise Sunset CodeSum Depth Water1 SnowFall PrecipTotal StnPressure  \\\n",
       "0    0448   1849             0      M      0.0        0.00       29.10   \n",
       "1       -      -             M      M        M        0.00       29.18   \n",
       "2    0447   1850      BR     0      M      0.0        0.00       29.38   \n",
       "3       -      -   BR HZ     M      M        M        0.00       29.44   \n",
       "4    0446   1851             0      M      0.0        0.00       29.39   \n",
       "\n",
       "  SeaLevel  ResultSpeed  ResultDir AvgSpeed  CodeSum_TS  CodeSum_RA  \\\n",
       "0    29.82          1.7         27      9.2           0           0   \n",
       "1    29.82          2.7         25      9.6           0           0   \n",
       "2    30.09         13.0          4     13.4           0           0   \n",
       "3    30.08         13.3          2     13.4           0           0   \n",
       "4    30.12         11.7          7     11.9           0           0   \n",
       "\n",
       "   CodeSum_DZ  CodeSum_FG  CodeSum_BR  CodeSum_HZ  CodeSum_MO  \n",
       "0           0           0           0           0           1  \n",
       "1           0           0           0           0           1  \n",
       "2           0           0           1           0           0  \n",
       "3           0           0           1           1           0  \n",
       "4           0           0           0           0           1  "
      ]
     },
     "execution_count": 10,
     "metadata": {},
     "output_type": "execute_result"
    }
   ],
   "source": [
    "weather.head()"
   ]
  },
  {
   "cell_type": "code",
   "execution_count": 11,
   "metadata": {},
   "outputs": [],
   "source": [
    "# Drop CodeSum column\n",
    "weather = weather.drop('CodeSum', axis=1)\n",
    "\n",
    "# Create weather from station 1 and 2 separately\n",
    "weather_st1 = weather[weather['Station']==1]\n",
    "weather_st2 = weather[weather['Station']==2]\n",
    "weather_st1 = weather_st1.drop('Station', axis=1)\n",
    "weather_st2 = weather_st2.drop('Station', axis=1)\n",
    "\n",
    "# Merge these 2 stations\n",
    "weather = weather_st1.merge(weather_st2, on='Date')\n",
    "\n",
    "# Replace some missing values and T with -1\n",
    "weather = weather.replace('M', -1)\n",
    "weather = weather.replace('-', -1)\n",
    "weather = weather.replace('T', -1)\n",
    "weather = weather.replace(' T', -1)\n",
    "weather = weather.replace('  T', -1)"
   ]
  },
  {
   "cell_type": "code",
   "execution_count": 12,
   "metadata": {},
   "outputs": [
    {
     "data": {
      "text/html": [
       "<div>\n",
       "<style scoped>\n",
       "    .dataframe tbody tr th:only-of-type {\n",
       "        vertical-align: middle;\n",
       "    }\n",
       "\n",
       "    .dataframe tbody tr th {\n",
       "        vertical-align: top;\n",
       "    }\n",
       "\n",
       "    .dataframe thead th {\n",
       "        text-align: right;\n",
       "    }\n",
       "</style>\n",
       "<table border=\"1\" class=\"dataframe\">\n",
       "  <thead>\n",
       "    <tr style=\"text-align: right;\">\n",
       "      <th></th>\n",
       "      <th>Date</th>\n",
       "      <th>Tmax_x</th>\n",
       "      <th>Tmin_x</th>\n",
       "      <th>Tavg_x</th>\n",
       "      <th>Depart_x</th>\n",
       "      <th>DewPoint_x</th>\n",
       "      <th>WetBulb_x</th>\n",
       "      <th>Heat_x</th>\n",
       "      <th>Cool_x</th>\n",
       "      <th>Sunrise_x</th>\n",
       "      <th>Sunset_x</th>\n",
       "      <th>Depth_x</th>\n",
       "      <th>Water1_x</th>\n",
       "      <th>SnowFall_x</th>\n",
       "      <th>PrecipTotal_x</th>\n",
       "      <th>StnPressure_x</th>\n",
       "      <th>SeaLevel_x</th>\n",
       "      <th>ResultSpeed_x</th>\n",
       "      <th>ResultDir_x</th>\n",
       "      <th>AvgSpeed_x</th>\n",
       "      <th>CodeSum_TS_x</th>\n",
       "      <th>CodeSum_RA_x</th>\n",
       "      <th>CodeSum_DZ_x</th>\n",
       "      <th>CodeSum_FG_x</th>\n",
       "      <th>CodeSum_BR_x</th>\n",
       "      <th>CodeSum_HZ_x</th>\n",
       "      <th>CodeSum_MO_x</th>\n",
       "      <th>Tmax_y</th>\n",
       "      <th>Tmin_y</th>\n",
       "      <th>Tavg_y</th>\n",
       "      <th>Depart_y</th>\n",
       "      <th>DewPoint_y</th>\n",
       "      <th>WetBulb_y</th>\n",
       "      <th>Heat_y</th>\n",
       "      <th>Cool_y</th>\n",
       "      <th>Sunrise_y</th>\n",
       "      <th>Sunset_y</th>\n",
       "      <th>Depth_y</th>\n",
       "      <th>Water1_y</th>\n",
       "      <th>SnowFall_y</th>\n",
       "      <th>PrecipTotal_y</th>\n",
       "      <th>StnPressure_y</th>\n",
       "      <th>SeaLevel_y</th>\n",
       "      <th>ResultSpeed_y</th>\n",
       "      <th>ResultDir_y</th>\n",
       "      <th>AvgSpeed_y</th>\n",
       "      <th>CodeSum_TS_y</th>\n",
       "      <th>CodeSum_RA_y</th>\n",
       "      <th>CodeSum_DZ_y</th>\n",
       "      <th>CodeSum_FG_y</th>\n",
       "      <th>CodeSum_BR_y</th>\n",
       "      <th>CodeSum_HZ_y</th>\n",
       "      <th>CodeSum_MO_y</th>\n",
       "    </tr>\n",
       "  </thead>\n",
       "  <tbody>\n",
       "    <tr>\n",
       "      <th>0</th>\n",
       "      <td>2007-05-01</td>\n",
       "      <td>83</td>\n",
       "      <td>50</td>\n",
       "      <td>67</td>\n",
       "      <td>14</td>\n",
       "      <td>51</td>\n",
       "      <td>56</td>\n",
       "      <td>0</td>\n",
       "      <td>2</td>\n",
       "      <td>0448</td>\n",
       "      <td>1849</td>\n",
       "      <td>0</td>\n",
       "      <td>-1</td>\n",
       "      <td>0.0</td>\n",
       "      <td>0.00</td>\n",
       "      <td>29.10</td>\n",
       "      <td>29.82</td>\n",
       "      <td>1.7</td>\n",
       "      <td>27</td>\n",
       "      <td>9.2</td>\n",
       "      <td>0</td>\n",
       "      <td>0</td>\n",
       "      <td>0</td>\n",
       "      <td>0</td>\n",
       "      <td>0</td>\n",
       "      <td>0</td>\n",
       "      <td>1</td>\n",
       "      <td>84</td>\n",
       "      <td>52</td>\n",
       "      <td>68</td>\n",
       "      <td>-1</td>\n",
       "      <td>51</td>\n",
       "      <td>57</td>\n",
       "      <td>0</td>\n",
       "      <td>3</td>\n",
       "      <td>-1</td>\n",
       "      <td>-1</td>\n",
       "      <td>-1</td>\n",
       "      <td>-1</td>\n",
       "      <td>-1</td>\n",
       "      <td>0.00</td>\n",
       "      <td>29.18</td>\n",
       "      <td>29.82</td>\n",
       "      <td>2.7</td>\n",
       "      <td>25</td>\n",
       "      <td>9.6</td>\n",
       "      <td>0</td>\n",
       "      <td>0</td>\n",
       "      <td>0</td>\n",
       "      <td>0</td>\n",
       "      <td>0</td>\n",
       "      <td>0</td>\n",
       "      <td>1</td>\n",
       "    </tr>\n",
       "    <tr>\n",
       "      <th>1</th>\n",
       "      <td>2007-05-02</td>\n",
       "      <td>59</td>\n",
       "      <td>42</td>\n",
       "      <td>51</td>\n",
       "      <td>-3</td>\n",
       "      <td>42</td>\n",
       "      <td>47</td>\n",
       "      <td>14</td>\n",
       "      <td>0</td>\n",
       "      <td>0447</td>\n",
       "      <td>1850</td>\n",
       "      <td>0</td>\n",
       "      <td>-1</td>\n",
       "      <td>0.0</td>\n",
       "      <td>0.00</td>\n",
       "      <td>29.38</td>\n",
       "      <td>30.09</td>\n",
       "      <td>13.0</td>\n",
       "      <td>4</td>\n",
       "      <td>13.4</td>\n",
       "      <td>0</td>\n",
       "      <td>0</td>\n",
       "      <td>0</td>\n",
       "      <td>0</td>\n",
       "      <td>1</td>\n",
       "      <td>0</td>\n",
       "      <td>0</td>\n",
       "      <td>60</td>\n",
       "      <td>43</td>\n",
       "      <td>52</td>\n",
       "      <td>-1</td>\n",
       "      <td>42</td>\n",
       "      <td>47</td>\n",
       "      <td>13</td>\n",
       "      <td>0</td>\n",
       "      <td>-1</td>\n",
       "      <td>-1</td>\n",
       "      <td>-1</td>\n",
       "      <td>-1</td>\n",
       "      <td>-1</td>\n",
       "      <td>0.00</td>\n",
       "      <td>29.44</td>\n",
       "      <td>30.08</td>\n",
       "      <td>13.3</td>\n",
       "      <td>2</td>\n",
       "      <td>13.4</td>\n",
       "      <td>0</td>\n",
       "      <td>0</td>\n",
       "      <td>0</td>\n",
       "      <td>0</td>\n",
       "      <td>1</td>\n",
       "      <td>1</td>\n",
       "      <td>0</td>\n",
       "    </tr>\n",
       "    <tr>\n",
       "      <th>2</th>\n",
       "      <td>2007-05-03</td>\n",
       "      <td>66</td>\n",
       "      <td>46</td>\n",
       "      <td>56</td>\n",
       "      <td>2</td>\n",
       "      <td>40</td>\n",
       "      <td>48</td>\n",
       "      <td>9</td>\n",
       "      <td>0</td>\n",
       "      <td>0446</td>\n",
       "      <td>1851</td>\n",
       "      <td>0</td>\n",
       "      <td>-1</td>\n",
       "      <td>0.0</td>\n",
       "      <td>0.00</td>\n",
       "      <td>29.39</td>\n",
       "      <td>30.12</td>\n",
       "      <td>11.7</td>\n",
       "      <td>7</td>\n",
       "      <td>11.9</td>\n",
       "      <td>0</td>\n",
       "      <td>0</td>\n",
       "      <td>0</td>\n",
       "      <td>0</td>\n",
       "      <td>0</td>\n",
       "      <td>0</td>\n",
       "      <td>1</td>\n",
       "      <td>67</td>\n",
       "      <td>48</td>\n",
       "      <td>58</td>\n",
       "      <td>-1</td>\n",
       "      <td>40</td>\n",
       "      <td>50</td>\n",
       "      <td>7</td>\n",
       "      <td>0</td>\n",
       "      <td>-1</td>\n",
       "      <td>-1</td>\n",
       "      <td>-1</td>\n",
       "      <td>-1</td>\n",
       "      <td>-1</td>\n",
       "      <td>0.00</td>\n",
       "      <td>29.46</td>\n",
       "      <td>30.12</td>\n",
       "      <td>12.9</td>\n",
       "      <td>6</td>\n",
       "      <td>13.2</td>\n",
       "      <td>0</td>\n",
       "      <td>0</td>\n",
       "      <td>0</td>\n",
       "      <td>0</td>\n",
       "      <td>0</td>\n",
       "      <td>1</td>\n",
       "      <td>0</td>\n",
       "    </tr>\n",
       "    <tr>\n",
       "      <th>3</th>\n",
       "      <td>2007-05-04</td>\n",
       "      <td>66</td>\n",
       "      <td>49</td>\n",
       "      <td>58</td>\n",
       "      <td>4</td>\n",
       "      <td>41</td>\n",
       "      <td>50</td>\n",
       "      <td>7</td>\n",
       "      <td>0</td>\n",
       "      <td>0444</td>\n",
       "      <td>1852</td>\n",
       "      <td>0</td>\n",
       "      <td>-1</td>\n",
       "      <td>0.0</td>\n",
       "      <td>-1</td>\n",
       "      <td>29.31</td>\n",
       "      <td>30.05</td>\n",
       "      <td>10.4</td>\n",
       "      <td>8</td>\n",
       "      <td>10.8</td>\n",
       "      <td>0</td>\n",
       "      <td>1</td>\n",
       "      <td>0</td>\n",
       "      <td>0</td>\n",
       "      <td>0</td>\n",
       "      <td>0</td>\n",
       "      <td>0</td>\n",
       "      <td>78</td>\n",
       "      <td>51</td>\n",
       "      <td>-1</td>\n",
       "      <td>-1</td>\n",
       "      <td>42</td>\n",
       "      <td>50</td>\n",
       "      <td>-1</td>\n",
       "      <td>-1</td>\n",
       "      <td>-1</td>\n",
       "      <td>-1</td>\n",
       "      <td>-1</td>\n",
       "      <td>-1</td>\n",
       "      <td>-1</td>\n",
       "      <td>0.00</td>\n",
       "      <td>29.36</td>\n",
       "      <td>30.04</td>\n",
       "      <td>10.1</td>\n",
       "      <td>7</td>\n",
       "      <td>10.4</td>\n",
       "      <td>0</td>\n",
       "      <td>0</td>\n",
       "      <td>0</td>\n",
       "      <td>0</td>\n",
       "      <td>0</td>\n",
       "      <td>0</td>\n",
       "      <td>1</td>\n",
       "    </tr>\n",
       "    <tr>\n",
       "      <th>4</th>\n",
       "      <td>2007-05-05</td>\n",
       "      <td>66</td>\n",
       "      <td>53</td>\n",
       "      <td>60</td>\n",
       "      <td>5</td>\n",
       "      <td>38</td>\n",
       "      <td>49</td>\n",
       "      <td>5</td>\n",
       "      <td>0</td>\n",
       "      <td>0443</td>\n",
       "      <td>1853</td>\n",
       "      <td>0</td>\n",
       "      <td>-1</td>\n",
       "      <td>0.0</td>\n",
       "      <td>-1</td>\n",
       "      <td>29.40</td>\n",
       "      <td>30.10</td>\n",
       "      <td>11.7</td>\n",
       "      <td>7</td>\n",
       "      <td>12.0</td>\n",
       "      <td>0</td>\n",
       "      <td>0</td>\n",
       "      <td>0</td>\n",
       "      <td>0</td>\n",
       "      <td>0</td>\n",
       "      <td>0</td>\n",
       "      <td>1</td>\n",
       "      <td>66</td>\n",
       "      <td>54</td>\n",
       "      <td>60</td>\n",
       "      <td>-1</td>\n",
       "      <td>39</td>\n",
       "      <td>50</td>\n",
       "      <td>5</td>\n",
       "      <td>0</td>\n",
       "      <td>-1</td>\n",
       "      <td>-1</td>\n",
       "      <td>-1</td>\n",
       "      <td>-1</td>\n",
       "      <td>-1</td>\n",
       "      <td>-1</td>\n",
       "      <td>29.46</td>\n",
       "      <td>30.09</td>\n",
       "      <td>11.2</td>\n",
       "      <td>7</td>\n",
       "      <td>11.5</td>\n",
       "      <td>0</td>\n",
       "      <td>0</td>\n",
       "      <td>0</td>\n",
       "      <td>0</td>\n",
       "      <td>0</td>\n",
       "      <td>0</td>\n",
       "      <td>1</td>\n",
       "    </tr>\n",
       "  </tbody>\n",
       "</table>\n",
       "</div>"
      ],
      "text/plain": [
       "         Date  Tmax_x  Tmin_x Tavg_x Depart_x  DewPoint_x WetBulb_x Heat_x  \\\n",
       "0  2007-05-01      83      50     67       14          51        56      0   \n",
       "1  2007-05-02      59      42     51       -3          42        47     14   \n",
       "2  2007-05-03      66      46     56        2          40        48      9   \n",
       "3  2007-05-04      66      49     58        4          41        50      7   \n",
       "4  2007-05-05      66      53     60        5          38        49      5   \n",
       "\n",
       "  Cool_x Sunrise_x Sunset_x Depth_x  Water1_x SnowFall_x PrecipTotal_x  \\\n",
       "0      2      0448     1849       0        -1        0.0          0.00   \n",
       "1      0      0447     1850       0        -1        0.0          0.00   \n",
       "2      0      0446     1851       0        -1        0.0          0.00   \n",
       "3      0      0444     1852       0        -1        0.0            -1   \n",
       "4      0      0443     1853       0        -1        0.0            -1   \n",
       "\n",
       "  StnPressure_x SeaLevel_x  ResultSpeed_x  ResultDir_x AvgSpeed_x  \\\n",
       "0         29.10      29.82            1.7           27        9.2   \n",
       "1         29.38      30.09           13.0            4       13.4   \n",
       "2         29.39      30.12           11.7            7       11.9   \n",
       "3         29.31      30.05           10.4            8       10.8   \n",
       "4         29.40      30.10           11.7            7       12.0   \n",
       "\n",
       "   CodeSum_TS_x  CodeSum_RA_x  CodeSum_DZ_x  CodeSum_FG_x  CodeSum_BR_x  \\\n",
       "0             0             0             0             0             0   \n",
       "1             0             0             0             0             1   \n",
       "2             0             0             0             0             0   \n",
       "3             0             1             0             0             0   \n",
       "4             0             0             0             0             0   \n",
       "\n",
       "   CodeSum_HZ_x  CodeSum_MO_x  Tmax_y  Tmin_y Tavg_y  Depart_y  DewPoint_y  \\\n",
       "0             0             1      84      52     68        -1          51   \n",
       "1             0             0      60      43     52        -1          42   \n",
       "2             0             1      67      48     58        -1          40   \n",
       "3             0             0      78      51     -1        -1          42   \n",
       "4             0             1      66      54     60        -1          39   \n",
       "\n",
       "  WetBulb_y Heat_y Cool_y  Sunrise_y  Sunset_y  Depth_y  Water1_y  SnowFall_y  \\\n",
       "0        57      0      3         -1        -1       -1        -1          -1   \n",
       "1        47     13      0         -1        -1       -1        -1          -1   \n",
       "2        50      7      0         -1        -1       -1        -1          -1   \n",
       "3        50     -1     -1         -1        -1       -1        -1          -1   \n",
       "4        50      5      0         -1        -1       -1        -1          -1   \n",
       "\n",
       "  PrecipTotal_y StnPressure_y SeaLevel_y  ResultSpeed_y  ResultDir_y  \\\n",
       "0          0.00         29.18      29.82            2.7           25   \n",
       "1          0.00         29.44      30.08           13.3            2   \n",
       "2          0.00         29.46      30.12           12.9            6   \n",
       "3          0.00         29.36      30.04           10.1            7   \n",
       "4            -1         29.46      30.09           11.2            7   \n",
       "\n",
       "  AvgSpeed_y  CodeSum_TS_y  CodeSum_RA_y  CodeSum_DZ_y  CodeSum_FG_y  \\\n",
       "0        9.6             0             0             0             0   \n",
       "1       13.4             0             0             0             0   \n",
       "2       13.2             0             0             0             0   \n",
       "3       10.4             0             0             0             0   \n",
       "4       11.5             0             0             0             0   \n",
       "\n",
       "   CodeSum_BR_y  CodeSum_HZ_y  CodeSum_MO_y  \n",
       "0             0             0             1  \n",
       "1             1             1             0  \n",
       "2             0             1             0  \n",
       "3             0             0             1  \n",
       "4             0             0             1  "
      ]
     },
     "execution_count": 12,
     "metadata": {},
     "output_type": "execute_result"
    }
   ],
   "source": [
    "weather.head()"
   ]
  },
  {
   "cell_type": "code",
   "execution_count": 13,
   "metadata": {},
   "outputs": [],
   "source": [
    "# Merge with weather data\n",
    "train = train.merge(weather, on='Date')\n",
    "test = test.merge(weather, on='Date')"
   ]
  },
  {
   "cell_type": "code",
   "execution_count": 14,
   "metadata": {},
   "outputs": [],
   "source": [
    "# Drop address columns\n",
    "train = train.drop(['Address', 'AddressNumberAndStreet'], axis = 1)\n",
    "test = test.drop(['Address', 'AddressNumberAndStreet'], axis = 1)\n",
    "\n",
    "# Drop columns that the value is -1\n",
    "train = train.loc[:,(train != -1).any(axis=0)]\n",
    "test = test.loc[:,(test != -1).any(axis=0)]"
   ]
  },
  {
   "cell_type": "code",
   "execution_count": 15,
   "metadata": {},
   "outputs": [],
   "source": [
    "# Convert categorical data to numbers\n",
    "\n",
    "labelencoder  = preprocessing.LabelEncoder()\n",
    "labelencoder .fit(list(train['Species'].values) + list(test['Species'].values))\n",
    "train['Species'] = labelencoder .transform(train['Species'].values)\n",
    "test['Species'] = labelencoder .transform(test['Species'].values)\n",
    "\n",
    "labelencoder .fit(list(train['Street'].values) + list(test['Street'].values))\n",
    "train['Street'] = labelencoder .transform(train['Street'].values)\n",
    "test['Street'] = labelencoder .transform(test['Street'].values)\n",
    "\n",
    "labelencoder .fit(list(train['Trap'].values) + list(test['Trap'].values))\n",
    "train['Trap'] = labelencoder .transform(train['Trap'].values)\n",
    "test['Trap'] = labelencoder .transform(test['Trap'].values)"
   ]
  },
  {
   "cell_type": "code",
   "execution_count": 16,
   "metadata": {},
   "outputs": [
    {
     "name": "stdout",
     "output_type": "stream",
     "text": [
      "Date                object\n",
      "Species              int32\n",
      "Block                int64\n",
      "Street               int32\n",
      "Trap                 int32\n",
      "Latitude           float64\n",
      "Longitude          float64\n",
      "AddressAccuracy      int64\n",
      "NumMosquitos         int64\n",
      "WnvPresent           int64\n",
      "Tmax_x               int64\n",
      "Tmin_x               int64\n",
      "Tavg_x               int64\n",
      "Depart_x             int64\n",
      "DewPoint_x           int64\n",
      "WetBulb_x            int64\n",
      "Heat_x               int64\n",
      "Cool_x               int64\n",
      "Sunrise_x            int64\n",
      "Sunset_x             int64\n",
      "Depth_x              int64\n",
      "SnowFall_x         float64\n",
      "PrecipTotal_x      float64\n",
      "StnPressure_x      float64\n",
      "SeaLevel_x         float64\n",
      "ResultSpeed_x      float64\n",
      "ResultDir_x          int64\n",
      "AvgSpeed_x         float64\n",
      "CodeSum_TS_x         int32\n",
      "CodeSum_RA_x         int32\n",
      "CodeSum_DZ_x         int32\n",
      "CodeSum_FG_x         int32\n",
      "CodeSum_BR_x         int32\n",
      "CodeSum_HZ_x         int32\n",
      "CodeSum_MO_x         int32\n",
      "Tmax_y               int64\n",
      "Tmin_y               int64\n",
      "Tavg_y               int64\n",
      "DewPoint_y           int64\n",
      "WetBulb_y            int64\n",
      "Heat_y               int64\n",
      "Cool_y               int64\n",
      "PrecipTotal_y      float64\n",
      "StnPressure_y      float64\n",
      "SeaLevel_y         float64\n",
      "ResultSpeed_y      float64\n",
      "ResultDir_y          int64\n",
      "AvgSpeed_y         float64\n",
      "CodeSum_TS_y         int32\n",
      "CodeSum_RA_y         int32\n",
      "CodeSum_DZ_y         int32\n",
      "CodeSum_FG_y         int32\n",
      "CodeSum_BR_y         int32\n",
      "CodeSum_HZ_y         int32\n",
      "CodeSum_MO_y         int32\n",
      "dtype: object\n"
     ]
    }
   ],
   "source": [
    "# Convert data type to numeric on train data\n",
    "\n",
    "train[['Tavg_x', 'Depart_x', 'WetBulb_x', 'Heat_x', 'Cool_x', 'Sunrise_x', \n",
    "       'Sunset_x', 'Depth_x', 'SnowFall_x', 'PrecipTotal_x', 'StnPressure_x', \n",
    "       'SeaLevel_x', 'AvgSpeed_x', 'Tavg_y', 'WetBulb_y', 'Heat_y', 'Cool_y', \n",
    "       'PrecipTotal_y', 'StnPressure_y', 'SeaLevel_y', \n",
    "       'AvgSpeed_y']] = train[['Tavg_x', 'Depart_x', 'WetBulb_x', 'Heat_x', 'Cool_x', \n",
    "                               'Sunrise_x', 'Sunset_x', 'Depth_x', 'SnowFall_x', 'PrecipTotal_x', \n",
    "                               'StnPressure_x', 'SeaLevel_x', 'AvgSpeed_x', 'Tavg_y', 'WetBulb_y', \n",
    "                               'Heat_y', 'Cool_y', 'PrecipTotal_y', 'StnPressure_y', 'SeaLevel_y', \n",
    "                               'AvgSpeed_y']].apply(pd.to_numeric) \n",
    "print(train.dtypes)"
   ]
  },
  {
   "cell_type": "code",
   "execution_count": 17,
   "metadata": {},
   "outputs": [
    {
     "name": "stdout",
     "output_type": "stream",
     "text": [
      "Id                   int64\n",
      "Date                object\n",
      "Species              int32\n",
      "Block                int64\n",
      "Street               int32\n",
      "Trap                 int32\n",
      "Latitude           float64\n",
      "Longitude          float64\n",
      "AddressAccuracy      int64\n",
      "Tmax_x               int64\n",
      "Tmin_x               int64\n",
      "Tavg_x               int64\n",
      "Depart_x             int64\n",
      "DewPoint_x           int64\n",
      "WetBulb_x            int64\n",
      "Heat_x               int64\n",
      "Cool_x               int64\n",
      "Sunrise_x            int64\n",
      "Sunset_x             int64\n",
      "Depth_x              int64\n",
      "SnowFall_x         float64\n",
      "PrecipTotal_x      float64\n",
      "StnPressure_x      float64\n",
      "SeaLevel_x         float64\n",
      "ResultSpeed_x      float64\n",
      "ResultDir_x          int64\n",
      "AvgSpeed_x         float64\n",
      "CodeSum_TS_x         int32\n",
      "CodeSum_RA_x         int32\n",
      "CodeSum_DZ_x         int32\n",
      "CodeSum_FG_x         int32\n",
      "CodeSum_BR_x         int32\n",
      "CodeSum_HZ_x         int32\n",
      "CodeSum_MO_x         int32\n",
      "Tmax_y               int64\n",
      "Tmin_y               int64\n",
      "Tavg_y               int64\n",
      "DewPoint_y           int64\n",
      "WetBulb_y            int64\n",
      "Heat_y               int64\n",
      "Cool_y               int64\n",
      "PrecipTotal_y      float64\n",
      "StnPressure_y      float64\n",
      "SeaLevel_y         float64\n",
      "ResultSpeed_y      float64\n",
      "ResultDir_y          int64\n",
      "AvgSpeed_y         float64\n",
      "CodeSum_TS_y         int32\n",
      "CodeSum_RA_y         int32\n",
      "CodeSum_DZ_y         int32\n",
      "CodeSum_FG_y         int32\n",
      "CodeSum_BR_y         int32\n",
      "CodeSum_HZ_y         int32\n",
      "CodeSum_MO_y         int32\n",
      "dtype: object\n"
     ]
    }
   ],
   "source": [
    "# Convert data type to numeric on test data\n",
    "\n",
    "test[['Tavg_x', 'Depart_x', 'WetBulb_x', 'Heat_x', 'Cool_x', 'Sunrise_x', \n",
    "       'Sunset_x', 'Depth_x', 'SnowFall_x', 'PrecipTotal_x', 'StnPressure_x', \n",
    "       'SeaLevel_x', 'AvgSpeed_x', 'Tavg_y', 'WetBulb_y', 'Heat_y', 'Cool_y', \n",
    "       'PrecipTotal_y', 'StnPressure_y', 'SeaLevel_y', \n",
    "       'AvgSpeed_y']] = test[['Tavg_x', 'Depart_x', 'WetBulb_x', 'Heat_x', 'Cool_x', \n",
    "                               'Sunrise_x', 'Sunset_x', 'Depth_x', 'SnowFall_x', 'PrecipTotal_x', \n",
    "                               'StnPressure_x', 'SeaLevel_x', 'AvgSpeed_x', 'Tavg_y', 'WetBulb_y', \n",
    "                               'Heat_y', 'Cool_y', 'PrecipTotal_y', 'StnPressure_y', 'SeaLevel_y', \n",
    "                               'AvgSpeed_y']].apply(pd.to_numeric) \n",
    "print(test.dtypes)"
   ]
  },
  {
   "cell_type": "code",
   "execution_count": 18,
   "metadata": {},
   "outputs": [],
   "source": [
    "# For checking\n",
    "\n",
    "train_c = pd.read_csv(\"../input/train.csv\")\n",
    "test_c = pd.read_csv(\"../input/test.csv\")"
   ]
  },
  {
   "cell_type": "code",
   "execution_count": 19,
   "metadata": {},
   "outputs": [
    {
     "data": {
      "image/png": "[encoded data removed]",
      "text/plain": [
       "<Figure size 432x288 with 1 Axes>"
      ]
     },
     "metadata": {
      "needs_background": "light"
     },
     "output_type": "display_data"
    }
   ],
   "source": [
    "# Check number of labels in train\n",
    "\n",
    "labels_c = train_c[[\"WnvPresent\"]]\n",
    "sns.countplot(x='WnvPresent', data=labels_c)\n",
    "plt.show()"
   ]
  },
  {
   "cell_type": "code",
   "execution_count": 20,
   "metadata": {},
   "outputs": [
    {
     "data": {
      "text/plain": [
       "0    9955\n",
       "1     551\n",
       "Name: WnvPresent, dtype: int64"
      ]
     },
     "execution_count": 20,
     "metadata": {},
     "output_type": "execute_result"
    }
   ],
   "source": [
    "# Count value\n",
    "\n",
    "labels_c['WnvPresent'].value_counts()"
   ]
  },
  {
   "cell_type": "code",
   "execution_count": 21,
   "metadata": {},
   "outputs": [
    {
     "name": "stderr",
     "output_type": "stream",
     "text": [
      "C:\\Users\\win10-user\\anaconda3\\lib\\site-packages\\seaborn\\categorical.py:3720: UserWarning: catplot is a figure-level function and does not accept target axes. You may wish to try countplot\n",
      "  warnings.warn(msg, UserWarning)\n"
     ]
    },
    {
     "data": {
      "image/png": "[encoded data removed]",
      "text/plain": [
       "<Figure size 428x360 with 1 Axes>"
      ]
     },
     "metadata": {
      "needs_background": "light"
     },
     "output_type": "display_data"
    }
   ],
   "source": [
    "# Plot number of count by mosquito spicies on train data\n",
    "\n",
    "fig, ax = plt.subplots()\n",
    "\n",
    "sns.catplot(\"Species\", hue=\"WnvPresent\", data=train_c, kind=\"count\", \n",
    "            palette={1:\"blue\", 0:\"green\"}, ax=ax)\n",
    "\n",
    "plt.close(1) # catplot creates an extra figure we don't need\n",
    "\n",
    "ax.set_xlabel(\"Species\")\n",
    "#ax.set_xticklabels(ax.get_xticklabels(), rotation=45)\n",
    "\n",
    "color_patches = [\n",
    "    Patch(facecolor=\"blue\", label=\"infected\"),\n",
    "    Patch(facecolor=\"green\", label=\"did not infected\")\n",
    "]\n",
    "\n",
    "ax.legend(handles=color_patches)\n",
    "\n",
    "plt.xticks(\n",
    "    rotation=45, \n",
    "    horizontalalignment='right',\n",
    "    fontweight='light',\n",
    "    fontsize='x-large'  \n",
    ")\n",
    "\n",
    "fig.suptitle(\"Species Title\");"
   ]
  },
  {
   "cell_type": "code",
   "execution_count": 22,
   "metadata": {},
   "outputs": [
    {
     "data": {
      "image/png": "[encoded data removed]",
      "text/plain": [
       "<Figure size 360x360 with 1 Axes>"
      ]
     },
     "metadata": {
      "needs_background": "light"
     },
     "output_type": "display_data"
    }
   ],
   "source": [
    "# Plot number of count by mosquito spicies on test data\n",
    "\n",
    "fig, ax = plt.subplots()\n",
    "\n",
    "sns.catplot(\"Species\", data=test_c, kind=\"count\", ax=ax)\n",
    "\n",
    "plt.close(1) # catplot creates an extra figure we don't need\n",
    "\n",
    "ax.set_xlabel(\"Species\")\n",
    "#ax.set_xticklabels(ax.get_xticklabels(), rotation=45)\n",
    "\n",
    "ax.legend(handles=color_patches)\n",
    "\n",
    "plt.xticks(\n",
    "    rotation=45, \n",
    "    horizontalalignment='right',\n",
    "    fontweight='light',\n",
    "    fontsize='x-large'  \n",
    ")\n",
    "\n",
    "fig.suptitle(\"Species Title\");"
   ]
  },
  {
   "cell_type": "code",
   "execution_count": 23,
   "metadata": {},
   "outputs": [
    {
     "data": {
      "image/png": "[encoded data removed]",
      "text/plain": [
       "<Figure size 720x288 with 1 Axes>"
      ]
     },
     "metadata": {
      "needs_background": "light"
     },
     "output_type": "display_data"
    },
    {
     "data": {
      "text/plain": [
       "<Figure size 1080x288 with 0 Axes>"
      ]
     },
     "metadata": {},
     "output_type": "display_data"
    }
   ],
   "source": [
    "# Plot number of mosquito count by max temperature\n",
    "\n",
    "fig, ax = plt.subplots(figsize=(10,4))\n",
    "\n",
    "plt.figure(figsize=(15,4))\n",
    "\n",
    "ax.hist(train[train[\"WnvPresent\"]==1][\"Tmax_x\"], bins=10, alpha=0.5, color=\"blue\", label=\"infected\")\n",
    "ax.hist(train[train[\"WnvPresent\"]==0][\"Tmax_x\"], bins=10, alpha=0.5, color=\"green\", label=\"did not infected\")\n",
    "\n",
    "ax.set_xlabel(\"Max Temperature\")\n",
    "ax.set_ylabel(\"Count\")\n",
    "\n",
    "\n",
    "\n",
    "fig.suptitle(\"Count of Mosquito by Max Temperature\")\n",
    "\n",
    "ax.legend();"
   ]
  },
  {
   "cell_type": "code",
   "execution_count": 24,
   "metadata": {},
   "outputs": [
    {
     "data": {
      "image/png": "[encoded data removed]",
      "text/plain": [
       "<Figure size 720x288 with 1 Axes>"
      ]
     },
     "metadata": {
      "needs_background": "light"
     },
     "output_type": "display_data"
    },
    {
     "data": {
      "text/plain": [
       "<Figure size 1080x288 with 0 Axes>"
      ]
     },
     "metadata": {},
     "output_type": "display_data"
    }
   ],
   "source": [
    "# Plot number of mosquito count by min temperature\n",
    "\n",
    "fig, ax = plt.subplots(figsize=(10,4))\n",
    "\n",
    "plt.figure(figsize=(15,4))\n",
    "\n",
    "ax.hist(train[train[\"WnvPresent\"]==1][\"Tmin_x\"], bins=10, alpha=0.5, color=\"blue\", label=\"infected\")\n",
    "ax.hist(train[train[\"WnvPresent\"]==0][\"Tmin_x\"], bins=10, alpha=0.5, color=\"green\", label=\"did not infected\")\n",
    "\n",
    "ax.set_xlabel(\"Min Temperature\")\n",
    "ax.set_ylabel(\"Count\")\n",
    "\n",
    "\n",
    "\n",
    "fig.suptitle(\"Count of Mosquito by Min Temperature\")\n",
    "\n",
    "ax.legend();"
   ]
  },
  {
   "cell_type": "code",
   "execution_count": 25,
   "metadata": {},
   "outputs": [
    {
     "data": {
      "image/png": "[encoded data removed]",
      "text/plain": [
       "<Figure size 720x288 with 1 Axes>"
      ]
     },
     "metadata": {
      "needs_background": "light"
     },
     "output_type": "display_data"
    },
    {
     "data": {
      "text/plain": [
       "<Figure size 1080x288 with 0 Axes>"
      ]
     },
     "metadata": {},
     "output_type": "display_data"
    }
   ],
   "source": [
    "# Plot number of mosquito count by average temperature\n",
    "\n",
    "fig, ax = plt.subplots(figsize=(10,4))\n",
    "\n",
    "plt.figure(figsize=(15,4))\n",
    "\n",
    "ax.hist(train[train[\"WnvPresent\"]==1][\"Tavg_x\"], bins=10, alpha=0.5, color=\"blue\", label=\"infected\")\n",
    "ax.hist(train[train[\"WnvPresent\"]==0][\"Tavg_x\"], bins=10, alpha=0.5, color=\"green\", label=\"did not infected\")\n",
    "\n",
    "ax.set_xlabel(\"Average Temperature\")\n",
    "ax.set_ylabel(\"Count\")\n",
    "\n",
    "\n",
    "\n",
    "fig.suptitle(\"Count of Mosquito by Average Temperature\")\n",
    "\n",
    "ax.legend();"
   ]
  },
  {
   "cell_type": "code",
   "execution_count": 26,
   "metadata": {},
   "outputs": [
    {
     "data": {
      "image/png": "[encoded data removed]",
      "text/plain": [
       "<Figure size 720x288 with 1 Axes>"
      ]
     },
     "metadata": {
      "needs_background": "light"
     },
     "output_type": "display_data"
    },
    {
     "data": {
      "text/plain": [
       "<Figure size 1080x288 with 0 Axes>"
      ]
     },
     "metadata": {},
     "output_type": "display_data"
    }
   ],
   "source": [
    "# Plot number of mosquito count by depart temperature\n",
    "\n",
    "fig, ax = plt.subplots(figsize=(10,4))\n",
    "\n",
    "plt.figure(figsize=(15,4))\n",
    "\n",
    "ax.hist(train[train[\"WnvPresent\"]==1][\"Depart_x\"], bins=10, alpha=0.5, color=\"blue\", label=\"infected\")\n",
    "ax.hist(train[train[\"WnvPresent\"]==0][\"Depart_x\"], bins=10, alpha=0.5, color=\"green\", label=\"did not infected\")\n",
    "\n",
    "ax.set_xlabel(\"Depart Temperature\")\n",
    "ax.set_ylabel(\"Count\")\n",
    "\n",
    "\n",
    "\n",
    "fig.suptitle(\"Count of Mosquito by Depart Temperature\")\n",
    "\n",
    "ax.legend();"
   ]
  },
  {
   "cell_type": "code",
   "execution_count": 27,
   "metadata": {},
   "outputs": [
    {
     "data": {
      "image/png": "[encoded data removed]",
      "text/plain": [
       "<Figure size 720x288 with 1 Axes>"
      ]
     },
     "metadata": {
      "needs_background": "light"
     },
     "output_type": "display_data"
    },
    {
     "data": {
      "text/plain": [
       "<Figure size 1080x288 with 0 Axes>"
      ]
     },
     "metadata": {},
     "output_type": "display_data"
    }
   ],
   "source": [
    "# Plot number of mosquito count by dew point\n",
    "\n",
    "fig, ax = plt.subplots(figsize=(10,4))\n",
    "\n",
    "plt.figure(figsize=(15,4))\n",
    "\n",
    "ax.hist(train[train[\"WnvPresent\"]==1][\"DewPoint_x\"], bins=10, alpha=0.5, color=\"blue\", label=\"infected\")\n",
    "ax.hist(train[train[\"WnvPresent\"]==0][\"DewPoint_x\"], bins=10, alpha=0.5, color=\"green\", label=\"did not infected\")\n",
    "\n",
    "ax.set_xlabel(\"Dew Point\")\n",
    "ax.set_ylabel(\"Count\")\n",
    "\n",
    "\n",
    "\n",
    "fig.suptitle(\"Count of Mosquito by Dew Point\")\n",
    "\n",
    "ax.legend();"
   ]
  },
  {
   "cell_type": "code",
   "execution_count": 28,
   "metadata": {},
   "outputs": [
    {
     "data": {
      "image/png": "[encoded data removed]",
      "text/plain": [
       "<Figure size 720x288 with 1 Axes>"
      ]
     },
     "metadata": {
      "needs_background": "light"
     },
     "output_type": "display_data"
    },
    {
     "data": {
      "text/plain": [
       "<Figure size 1080x288 with 0 Axes>"
      ]
     },
     "metadata": {},
     "output_type": "display_data"
    }
   ],
   "source": [
    "# Plot number of mosquito count by wet bulb\n",
    "\n",
    "fig, ax = plt.subplots(figsize=(10,4))\n",
    "\n",
    "plt.figure(figsize=(15,4))\n",
    "\n",
    "ax.hist(train[train[\"WnvPresent\"]==1][\"WetBulb_x\"], bins=10, alpha=0.5, color=\"blue\", label=\"infected\")\n",
    "ax.hist(train[train[\"WnvPresent\"]==0][\"WetBulb_x\"], bins=10, alpha=0.5, color=\"green\", label=\"did not infected\")\n",
    "\n",
    "ax.set_xlabel(\"Wet Bulb\")\n",
    "ax.set_ylabel(\"Count\")\n",
    "\n",
    "\n",
    "\n",
    "fig.suptitle(\"Count of Mosquito by Wet Bulb\")\n",
    "\n",
    "ax.legend();"
   ]
  },
  {
   "cell_type": "code",
   "execution_count": 29,
   "metadata": {},
   "outputs": [
    {
     "data": {
      "image/png": "[encoded data removed]",
      "text/plain": [
       "<Figure size 720x288 with 1 Axes>"
      ]
     },
     "metadata": {
      "needs_background": "light"
     },
     "output_type": "display_data"
    },
    {
     "data": {
      "text/plain": [
       "<Figure size 1080x288 with 0 Axes>"
      ]
     },
     "metadata": {},
     "output_type": "display_data"
    }
   ],
   "source": [
    "# Plot number of mosquito count by pressure\n",
    "\n",
    "fig, ax = plt.subplots(figsize=(10,4))\n",
    "\n",
    "plt.figure(figsize=(15,4))\n",
    "\n",
    "ax.hist(train[train[\"WnvPresent\"]==1][\"StnPressure_x\"], bins=10, alpha=0.5, color=\"blue\", label=\"infected\")\n",
    "ax.hist(train[train[\"WnvPresent\"]==0][\"StnPressure_x\"], bins=10, alpha=0.5, color=\"green\", label=\"did not infected\")\n",
    "\n",
    "ax.set_xlabel(\"Pressure\")\n",
    "ax.set_ylabel(\"Count\")\n",
    "\n",
    "\n",
    "\n",
    "fig.suptitle(\"Count of Mosquito by Pressure\")\n",
    "\n",
    "ax.legend();"
   ]
  },
  {
   "cell_type": "code",
   "execution_count": 30,
   "metadata": {},
   "outputs": [
    {
     "data": {
      "image/png": "[encoded data removed]",
      "text/plain": [
       "<Figure size 720x288 with 1 Axes>"
      ]
     },
     "metadata": {
      "needs_background": "light"
     },
     "output_type": "display_data"
    },
    {
     "data": {
      "text/plain": [
       "<Figure size 1080x288 with 0 Axes>"
      ]
     },
     "metadata": {},
     "output_type": "display_data"
    }
   ],
   "source": [
    "# Plot number of mosquito count by sea level\n",
    "\n",
    "fig, ax = plt.subplots(figsize=(10,4))\n",
    "\n",
    "plt.figure(figsize=(15,4))\n",
    "\n",
    "ax.hist(train[train[\"WnvPresent\"]==1][\"SeaLevel_x\"], bins=10, alpha=0.5, color=\"blue\", label=\"infected\")\n",
    "ax.hist(train[train[\"WnvPresent\"]==0][\"SeaLevel_x\"], bins=10, alpha=0.5, color=\"green\", label=\"did not infected\")\n",
    "\n",
    "ax.set_xlabel(\"Sea Level\")\n",
    "ax.set_ylabel(\"Count\")\n",
    "\n",
    "\n",
    "\n",
    "fig.suptitle(\"Count of Mosquito by Sea Level\")\n",
    "\n",
    "ax.legend();"
   ]
  },
  {
   "cell_type": "code",
   "execution_count": 31,
   "metadata": {},
   "outputs": [
    {
     "data": {
      "image/png": "[encoded data removed]",
      "text/plain": [
       "<Figure size 720x288 with 1 Axes>"
      ]
     },
     "metadata": {
      "needs_background": "light"
     },
     "output_type": "display_data"
    },
    {
     "data": {
      "text/plain": [
       "<Figure size 1080x288 with 0 Axes>"
      ]
     },
     "metadata": {},
     "output_type": "display_data"
    }
   ],
   "source": [
    "# Plot number of mosquito count by wind speed\n",
    "\n",
    "fig, ax = plt.subplots(figsize=(10,4))\n",
    "\n",
    "plt.figure(figsize=(15,4))\n",
    "\n",
    "ax.hist(train[train[\"WnvPresent\"]==1][\"ResultSpeed_x\"], bins=10, alpha=0.5, color=\"blue\", label=\"infected\")\n",
    "ax.hist(train[train[\"WnvPresent\"]==0][\"ResultSpeed_x\"], bins=10, alpha=0.5, color=\"green\", label=\"did not infected\")\n",
    "\n",
    "ax.set_xlabel(\"Wind Speed\")\n",
    "ax.set_ylabel(\"Count\")\n",
    "\n",
    "\n",
    "\n",
    "fig.suptitle(\"Count of Mosquito by Wind Speed\")\n",
    "\n",
    "ax.legend();"
   ]
  },
  {
   "cell_type": "code",
   "execution_count": 32,
   "metadata": {},
   "outputs": [
    {
     "data": {
      "image/png": "[encoded data removed]",
      "text/plain": [
       "<Figure size 720x288 with 1 Axes>"
      ]
     },
     "metadata": {
      "needs_background": "light"
     },
     "output_type": "display_data"
    },
    {
     "data": {
      "text/plain": [
       "<Figure size 1080x288 with 0 Axes>"
      ]
     },
     "metadata": {},
     "output_type": "display_data"
    }
   ],
   "source": [
    "# Plot number of mosquito count by wind direction\n",
    "\n",
    "fig, ax = plt.subplots(figsize=(10,4))\n",
    "\n",
    "plt.figure(figsize=(15,4))\n",
    "\n",
    "ax.hist(train[train[\"WnvPresent\"]==1][\"ResultDir_x\"], bins=10, alpha=0.5, color=\"blue\", label=\"infected\")\n",
    "ax.hist(train[train[\"WnvPresent\"]==0][\"ResultDir_x\"], bins=10, alpha=0.5, color=\"green\", label=\"did not infected\")\n",
    "\n",
    "ax.set_xlabel(\"Wind Direction\")\n",
    "ax.set_ylabel(\"Count\")\n",
    "\n",
    "\n",
    "\n",
    "fig.suptitle(\"Count of Mosquito by Wind Direction\")\n",
    "\n",
    "ax.legend();"
   ]
  },
  {
   "cell_type": "code",
   "execution_count": 33,
   "metadata": {},
   "outputs": [
    {
     "data": {
      "image/png": "[encoded data removed]",
      "text/plain": [
       "<Figure size 720x288 with 1 Axes>"
      ]
     },
     "metadata": {
      "needs_background": "light"
     },
     "output_type": "display_data"
    },
    {
     "data": {
      "text/plain": [
       "<Figure size 1080x288 with 0 Axes>"
      ]
     },
     "metadata": {},
     "output_type": "display_data"
    }
   ],
   "source": [
    "# Plot number of mosquito count by wind average speed\n",
    "\n",
    "fig, ax = plt.subplots(figsize=(10,4))\n",
    "\n",
    "plt.figure(figsize=(15,4))\n",
    "\n",
    "ax.hist(train[train[\"WnvPresent\"]==1][\"AvgSpeed_x\"], bins=10, alpha=0.5, color=\"blue\", label=\"infected\")\n",
    "ax.hist(train[train[\"WnvPresent\"]==0][\"AvgSpeed_x\"], bins=10, alpha=0.5, color=\"green\", label=\"did not infected\")\n",
    "\n",
    "ax.set_xlabel(\"Wind Average Speed\")\n",
    "ax.set_ylabel(\"Count\")\n",
    "\n",
    "\n",
    "\n",
    "fig.suptitle(\"Count of Mosquito by Wind Average Speed\")\n",
    "\n",
    "ax.legend();"
   ]
  },
  {
   "cell_type": "code",
   "execution_count": 34,
   "metadata": {},
   "outputs": [
    {
     "data": {
      "image/png": "[encoded data removed]",
      "text/plain": [
       "<Figure size 720x288 with 1 Axes>"
      ]
     },
     "metadata": {
      "needs_background": "light"
     },
     "output_type": "display_data"
    },
    {
     "data": {
      "text/plain": [
       "<Figure size 1080x288 with 0 Axes>"
      ]
     },
     "metadata": {},
     "output_type": "display_data"
    }
   ],
   "source": [
    "# Plot number of mosquito count by precipitation\n",
    "\n",
    "fig, ax = plt.subplots(figsize=(10,4))\n",
    "\n",
    "plt.figure(figsize=(15,4))\n",
    "\n",
    "ax.hist(train[train[\"WnvPresent\"]==1][\"PrecipTotal_x\"], bins=10, alpha=0.5, color=\"blue\", label=\"infected\")\n",
    "ax.hist(train[train[\"WnvPresent\"]==0][\"PrecipTotal_x\"], bins=10, alpha=0.5, color=\"green\", label=\"did not infected\")\n",
    "\n",
    "ax.set_xlabel(\"Precipitation\")\n",
    "ax.set_ylabel(\"Count\")\n",
    "\n",
    "\n",
    "\n",
    "fig.suptitle(\"Count of Mosquito by Precipitation\")\n",
    "\n",
    "ax.legend();"
   ]
  },
  {
   "cell_type": "code",
   "execution_count": 35,
   "metadata": {},
   "outputs": [
    {
     "data": {
      "image/png": "[encoded data removed]",
      "text/plain": [
       "<Figure size 720x288 with 1 Axes>"
      ]
     },
     "metadata": {
      "needs_background": "light"
     },
     "output_type": "display_data"
    },
    {
     "data": {
      "text/plain": [
       "<Figure size 1080x288 with 0 Axes>"
      ]
     },
     "metadata": {},
     "output_type": "display_data"
    }
   ],
   "source": [
    "# Plot number of mosquito count by heat\n",
    "\n",
    "fig, ax = plt.subplots(figsize=(10,4))\n",
    "\n",
    "plt.figure(figsize=(15,4))\n",
    "\n",
    "ax.hist(train[train[\"WnvPresent\"]==1][\"Heat_x\"], bins=10, alpha=0.5, color=\"blue\", label=\"infected\")\n",
    "ax.hist(train[train[\"WnvPresent\"]==0][\"Heat_x\"], bins=10, alpha=0.5, color=\"green\", label=\"did not infected\")\n",
    "\n",
    "ax.set_xlabel(\"Heat\")\n",
    "ax.set_ylabel(\"Count\")\n",
    "\n",
    "\n",
    "\n",
    "fig.suptitle(\"Count of Mosquito by Heat\")\n",
    "\n",
    "ax.legend();"
   ]
  },
  {
   "cell_type": "code",
   "execution_count": 36,
   "metadata": {},
   "outputs": [
    {
     "data": {
      "image/png": "[encoded data removed]",
      "text/plain": [
       "<Figure size 720x288 with 1 Axes>"
      ]
     },
     "metadata": {
      "needs_background": "light"
     },
     "output_type": "display_data"
    },
    {
     "data": {
      "text/plain": [
       "<Figure size 1080x288 with 0 Axes>"
      ]
     },
     "metadata": {},
     "output_type": "display_data"
    }
   ],
   "source": [
    "# Plot number of mosquito count by cool\n",
    "\n",
    "fig, ax = plt.subplots(figsize=(10,4))\n",
    "\n",
    "plt.figure(figsize=(15,4))\n",
    "\n",
    "ax.hist(train[train[\"WnvPresent\"]==1][\"Cool_x\"], bins=10, alpha=0.5, color=\"blue\", label=\"infected\")\n",
    "ax.hist(train[train[\"WnvPresent\"]==0][\"Cool_x\"], bins=10, alpha=0.5, color=\"green\", label=\"did not infected\")\n",
    "\n",
    "ax.set_xlabel(\"Cool\")\n",
    "ax.set_ylabel(\"Count\")\n",
    "\n",
    "\n",
    "\n",
    "fig.suptitle(\"Count of Mosquito by Cool\")\n",
    "\n",
    "ax.legend();"
   ]
  },
  {
   "cell_type": "code",
   "execution_count": 37,
   "metadata": {},
   "outputs": [],
   "source": [
    "# Replace -1 with median of its column\n",
    "\n",
    "train['Depart_x'] = train['Depart_x'].replace(-1, np.nan)\n",
    "train['WetBulb_x'] = train['WetBulb_x'].replace(-1, np.nan)\n",
    "train['SnowFall_x'] = train['SnowFall_x'].replace(-1, np.nan)\n",
    "train['PrecipTotal_x'] = train['PrecipTotal_x'].replace(-1, np.nan)\n",
    "train['StnPressure_x'] = train['StnPressure_x'].replace(-1, np.nan)\n",
    "train['PrecipTotal_y'] = train['PrecipTotal_y'].replace(-1, np.nan)\n",
    "\n",
    "\n",
    "train['Depart_x'] = train['Depart_x'].replace(np.nan, train['Depart_x'].median())\n",
    "train['WetBulb_x'] = train['WetBulb_x'].replace(np.nan, train['WetBulb_x'].median())\n",
    "train['SnowFall_x'] = train['SnowFall_x'].replace(np.nan, train['SnowFall_x'].median())\n",
    "train['PrecipTotal_x'] = train['PrecipTotal_x'].replace(np.nan, train['PrecipTotal_x'].median())\n",
    "train['StnPressure_x'] = train['StnPressure_x'].replace(np.nan, train['StnPressure_x'].median())\n",
    "train['PrecipTotal_y'] = train['PrecipTotal_y'].replace(np.nan, train['PrecipTotal_y'].median())\n",
    "\n",
    "\n",
    "\n",
    "\n",
    "\n",
    "test['SnowFall_x'] = test['SnowFall_x'].replace(-1, np.nan)\n",
    "test['PrecipTotal_x'] = test['PrecipTotal_x'].replace(-1, np.nan)\n",
    "test['PrecipTotal_y'] = test['PrecipTotal_y'].replace(-1, np.nan)\n",
    "\n",
    "\n",
    "test['SnowFall_x'] = test['SnowFall_x'].replace(np.nan, test['SnowFall_x'].median())\n",
    "test['PrecipTotal_x'] = test['PrecipTotal_x'].replace(np.nan, test['PrecipTotal_x'].median())\n",
    "test['PrecipTotal_y'] = test['PrecipTotal_y'].replace(np.nan, test['PrecipTotal_y'].median())"
   ]
  },
  {
   "cell_type": "code",
   "execution_count": 38,
   "metadata": {},
   "outputs": [
    {
     "data": {
      "image/png": "[encoded data removed]",
      "text/plain": [
       "<Figure size 720x288 with 1 Axes>"
      ]
     },
     "metadata": {
      "needs_background": "light"
     },
     "output_type": "display_data"
    },
    {
     "data": {
      "text/plain": [
       "<Figure size 1080x288 with 0 Axes>"
      ]
     },
     "metadata": {},
     "output_type": "display_data"
    }
   ],
   "source": [
    "# Plot number of mosquito count by wet bulb after impute by median\n",
    "\n",
    "fig, ax = plt.subplots(figsize=(10,4))\n",
    "\n",
    "plt.figure(figsize=(15,4))\n",
    "\n",
    "ax.hist(train[train[\"WnvPresent\"]==1][\"WetBulb_x\"], bins=10, alpha=0.5, color=\"blue\", label=\"infected\")\n",
    "ax.hist(train[train[\"WnvPresent\"]==0][\"WetBulb_x\"], bins=10, alpha=0.5, color=\"green\", label=\"did not infected\")\n",
    "\n",
    "ax.set_xlabel(\"Wet Bulb\")\n",
    "ax.set_ylabel(\"Count\")\n",
    "\n",
    "\n",
    "\n",
    "fig.suptitle(\"Count of Mosquito by Wet Bulb\")\n",
    "\n",
    "ax.legend();"
   ]
  },
  {
   "cell_type": "code",
   "execution_count": 39,
   "metadata": {},
   "outputs": [
    {
     "data": {
      "image/png": "[encoded data removed]",
      "text/plain": [
       "<Figure size 720x288 with 1 Axes>"
      ]
     },
     "metadata": {
      "needs_background": "light"
     },
     "output_type": "display_data"
    },
    {
     "data": {
      "text/plain": [
       "<Figure size 1080x288 with 0 Axes>"
      ]
     },
     "metadata": {},
     "output_type": "display_data"
    }
   ],
   "source": [
    "# Plot number of mosquito count by pressure after impute by median\n",
    "\n",
    "fig, ax = plt.subplots(figsize=(10,4))\n",
    "\n",
    "plt.figure(figsize=(15,4))\n",
    "\n",
    "ax.hist(train[train[\"WnvPresent\"]==1][\"StnPressure_x\"], bins=10, alpha=0.5, color=\"blue\", label=\"infected\")\n",
    "ax.hist(train[train[\"WnvPresent\"]==0][\"StnPressure_x\"], bins=10, alpha=0.5, color=\"green\", label=\"did not infected\")\n",
    "\n",
    "ax.set_xlabel(\"Pressure\")\n",
    "ax.set_ylabel(\"Count\")\n",
    "\n",
    "\n",
    "\n",
    "fig.suptitle(\"Count of Mosquito by Pressure\")\n",
    "\n",
    "ax.legend();"
   ]
  },
  {
   "cell_type": "code",
   "execution_count": 40,
   "metadata": {},
   "outputs": [
    {
     "data": {
      "image/png": "[encoded data removed]",
      "text/plain": [
       "<Figure size 720x288 with 1 Axes>"
      ]
     },
     "metadata": {
      "needs_background": "light"
     },
     "output_type": "display_data"
    },
    {
     "data": {
      "text/plain": [
       "<Figure size 1080x288 with 0 Axes>"
      ]
     },
     "metadata": {},
     "output_type": "display_data"
    }
   ],
   "source": [
    "# Plot number of mosquito count by precipitation after impute by median\n",
    "\n",
    "fig, ax = plt.subplots(figsize=(10,4))\n",
    "\n",
    "plt.figure(figsize=(15,4))\n",
    "\n",
    "ax.hist(train[train[\"WnvPresent\"]==1][\"PrecipTotal_x\"], bins=10, alpha=0.5, color=\"blue\", label=\"infected\")\n",
    "ax.hist(train[train[\"WnvPresent\"]==0][\"PrecipTotal_x\"], bins=10, alpha=0.5, color=\"green\", label=\"did not infected\")\n",
    "\n",
    "ax.set_xlabel(\"Precipitation\")\n",
    "ax.set_ylabel(\"Count\")\n",
    "\n",
    "\n",
    "\n",
    "fig.suptitle(\"Count of Mosquito by Precipitation\")\n",
    "\n",
    "ax.legend();"
   ]
  },
  {
   "cell_type": "code",
   "execution_count": 41,
   "metadata": {},
   "outputs": [],
   "source": [
    "# Drop address and date columns\n",
    "train = train.drop(['Date', 'WnvPresent', 'NumMosquitos'], axis = 1)\n",
    "test = test.drop(['Date', 'Id'], axis = 1)"
   ]
  },
  {
   "cell_type": "markdown",
   "metadata": {},
   "source": [
    "# Train and Evaluate the model"
   ]
  },
  {
   "cell_type": "markdown",
   "metadata": {},
   "source": [
    "## Random Forest Classifier"
   ]
  },
  {
   "cell_type": "code",
   "execution_count": 42,
   "metadata": {},
   "outputs": [],
   "source": [
    "# Random Forest Classifier \n",
    "rf = ensemble.RandomForestClassifier(n_jobs=-1, n_estimators=1000, min_samples_split=2)\n",
    "rf.fit(train, labels)\n",
    "\n",
    "# create predictions and submission file\n",
    "predictions_rf = rf.predict_proba(test)[:,1]\n",
    "sample['WnvPresent'] = predictions_rf\n",
    "sample.to_csv('result_rf.csv', index=False)"
   ]
  },
  {
   "cell_type": "code",
   "execution_count": 43,
   "metadata": {},
   "outputs": [
    {
     "data": {
      "text/plain": [
       "array([0.01755602, 0.00568175, 0.02371006, ..., 0.01232143, 0.01232143,\n",
       "       0.01874284])"
      ]
     },
     "execution_count": 43,
     "metadata": {},
     "output_type": "execute_result"
    }
   ],
   "source": [
    "predictions_rf"
   ]
  },
  {
   "cell_type": "markdown",
   "metadata": {},
   "source": [
    "## Logistic Regression"
   ]
  },
  {
   "cell_type": "code",
   "execution_count": 44,
   "metadata": {},
   "outputs": [],
   "source": [
    "# Logistic Regression\n",
    "\n",
    "lr = LogisticRegression(random_state=0, max_iter=10000).fit(train, labels)\n",
    "predictions_lr = lr.predict_proba(test)[:,1]\n",
    "\n",
    "sample['WnvPresent'] = predictions_lr\n",
    "sample.to_csv('result_lr.csv', index=False)"
   ]
  },
  {
   "cell_type": "code",
   "execution_count": 45,
   "metadata": {},
   "outputs": [
    {
     "data": {
      "text/plain": [
       "array([0.00621854, 0.00397511, 0.00971575, ..., 0.01675504, 0.00688408,\n",
       "       0.13901848])"
      ]
     },
     "execution_count": 45,
     "metadata": {},
     "output_type": "execute_result"
    }
   ],
   "source": [
    "predictions_lr"
   ]
  }
 ],
 "metadata": {
  "kernelspec": {
   "display_name": "Python 3",
   "language": "python",
   "name": "python3"
  },
  "language_info": {
   "codemirror_mode": {
    "name": "ipython",
    "version": 3
   },
   "file_extension": ".py",
   "mimetype": "text/x-python",
   "name": "python",
   "nbconvert_exporter": "python",
   "pygments_lexer": "ipython3",
   "version": "3.7.6"
  }
 },
 "nbformat": 4,
 "nbformat_minor": 4
}
